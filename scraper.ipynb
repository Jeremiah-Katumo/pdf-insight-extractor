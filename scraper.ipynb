{
 "cells": [
  {
   "cell_type": "code",
   "execution_count": 1,
   "id": "bdc449a7",
   "metadata": {},
   "outputs": [],
   "source": [
    "from selenium import webdriver\n",
    "from selenium.webdriver.chrome.service import Service\n",
    "from selenium.webdriver.common.by import By\n",
    "from selenium.webdriver.chrome.options import Options\n",
    "from selenium.webdriver.support.ui import WebDriverWait\n",
    "from selenium.webdriver.support import expected_conditions as EC\n",
    "from selenium.common.exceptions import NoSuchElementException\n",
    "import time\n",
    "import logging\n",
    "import pandas as pd"
   ]
  },
  {
   "cell_type": "code",
   "execution_count": 2,
   "id": "81f5384e",
   "metadata": {},
   "outputs": [],
   "source": [
    "# Set root logger level higher than DEBUG\n",
    "logging.basicConfig(level=logging.DEBUG)  # DEBUG, INFO, WARNING, ERROR, CRITICAL\n",
    "\n",
    "# Specifically silence noisy loggers\n",
    "logging.getLogger(\"selenium\").setLevel(logging.WARNING)\n",
    "logging.getLogger(\"urllib3\").setLevel(logging.WARNING)"
   ]
  },
  {
   "cell_type": "code",
   "execution_count": 3,
   "id": "a7dd7f4f",
   "metadata": {},
   "outputs": [],
   "source": [
    "def start_driver():\n",
    "    chrome_options = Options()\n",
    "    chrome_options.add_argument(\"--headless\")  # Run in background\n",
    "    chrome_options.add_argument(\"--disable-gpu\")\n",
    "    chrome_options.add_argument(\"--window-size=1920,1080\")\n",
    "    chrome_options.add_argument(\"--no-sandbox\")\n",
    "    chrome_options.add_argument(\"--disable-dev-shm-usage\")\n",
    "    \n",
    "    # If chromedriver is in PATH, you don’t need to specify it\n",
    "    driver = webdriver.Chrome(options=chrome_options)\n",
    "\n",
    "    return driver"
   ]
  },
  {
   "cell_type": "code",
   "execution_count": 4,
   "id": "a02bc77e",
   "metadata": {},
   "outputs": [],
   "source": [
    "# def scrape_data():\n",
    "url = \"https://ca.soccerway.com/national/france/ligue-1/20242025/regular-season/r81802/matches/\"\n",
    "# chrome_options = webdriver.ChromeOptions()\n",
    "# chrome_options.add_experimental_option(\"detach\", True)\n",
    "driver = start_driver()\n",
    "driver.get(url)\n",
    "\n",
    "# Load all matches\n",
    "for _ in range(40):\n",
    "    try:\n",
    "        # Load previous button\n",
    "        btn = driver.find_element(By.XPATH, f\"/html/body/div[3]/div/div/div[1]/div/div[3]/div[2]/div/div/div/div[1]/div/div[2]/div[1]/div/div/div/button\")\n",
    "        btn.click()\n",
    "        time.sleep(2)\n",
    "    except:\n",
    "        break\n",
    "    \n",
    "# single match div\n",
    "match = driver.find_element(By.XPATH, f\"/html/body/div[3]/div/div/div[1]/div/div[3]/div[2]/div/div/div/div[1]/div/div[2]/div[2]/div/div/div[3]/div/div/div/a\")\n",
    "# return match"
   ]
  },
  {
   "cell_type": "code",
   "execution_count": 5,
   "id": "d25c1eff",
   "metadata": {},
   "outputs": [
    {
     "name": "stdout",
     "output_type": "stream",
     "text": [
      "\n",
      "<a class=\"sc-22ef6ec-0 sc-a1a6abf-2 boVFdS gAkJuB\" href=\"/matches/2025/05/17/france/ligue-1/nantes/montpellier/4373049/\"></a>\n"
     ]
    }
   ],
   "source": [
    "print(match.text)\n",
    "print(match.get_attribute('outerHTML'))"
   ]
  },
  {
   "cell_type": "code",
   "execution_count": 6,
   "id": "76b1e2c0",
   "metadata": {},
   "outputs": [
    {
     "name": "stdout",
     "output_type": "stream",
     "text": [
      "https://ca.soccerway.com/matches/2025/05/17/france/ligue-1/nantes/montpellier/4373049/\n"
     ]
    }
   ],
   "source": [
    "href = match.get_attribute('href')\n",
    "print(href)"
   ]
  },
  {
   "cell_type": "code",
   "execution_count": 7,
   "id": "4ca809ad",
   "metadata": {},
   "outputs": [
    {
     "name": "stdout",
     "output_type": "stream",
     "text": [
      "[]\n"
     ]
    }
   ],
   "source": [
    "matches = driver.find_elements(By.XPATH, \"//a[contains(@href, '/match/')]\")\n",
    "print(matches)"
   ]
  },
  {
   "cell_type": "code",
   "execution_count": 8,
   "id": "f6a6b66c",
   "metadata": {},
   "outputs": [
    {
     "data": {
      "text/plain": [
       "[<a class=\"sc-22ef6ec-0 boVFdS\" href=\"/national/france/ligue-1/2025-2026/regular-season/2d58bc25-77ec-4425-bed7-30f1839e3f8f/\" style=\"width: 100%;\"><div class=\"sc-575aeb00-1 gTtAsv\"><span class=\"sc-600113f9-0 bzoXQy\"><span class=\"sc-600113f9-1 klwUeB\"><img alt=\"\" data-nimg=\"1\" decoding=\"async\" height=\"18\" loading=\"lazy\" src=\"https://static.soccerway.com/flags/svg/france.svg\" style=\"color: transparent;\" width=\"18\"/></span></span><span class=\"sc-4e4c9eab-2 jgDxUJ label label\">Ligue 1</span></div></a>,\n",
       " <a class=\"sc-22ef6ec-0 boVFdS\" href=\"/national/france/ligue-1/20242025/regular-season/r81802/\" style=\"width: 100%;\"><div class=\"sc-94e50ec4-0 fxiSqU total\"><div class=\"sc-94e50ec4-0 qzEgh sc-d7965a66-0 hxTmOI\"><span class=\"sc-4e4c9eab-2 etMNoc label\">Summary</span></div></div></a>,\n",
       " <a class=\"sc-22ef6ec-0 boVFdS\" href=\"/national/france/ligue-1/20242025/regular-season/r81802/matches/\" style=\"width: 100%;\"><div class=\"sc-94e50ec4-0 fxiSqU total\"><div class=\"sc-94e50ec4-0 qzEgh sc-d7965a66-0 hxTmOI\"><span class=\"sc-4e4c9eab-2 etMNoc label\">Matches</span></div></div></a>,\n",
       " <a class=\"sc-22ef6ec-0 boVFdS\" href=\"/national/france/ligue-1/20242025/regular-season/r81802/tables/\" style=\"width: 100%;\"><div class=\"sc-94e50ec4-0 fxiSqU total\"><div class=\"sc-94e50ec4-0 qzEgh sc-d7965a66-0 hxTmOI\"><span class=\"sc-4e4c9eab-2 etMNoc label\">Tables</span></div></div></a>,\n",
       " <a class=\"sc-22ef6ec-0 boVFdS\" href=\"/national/france/ligue-1/20242025/regular-season/r81802/players/\" style=\"width: 100%;\"><div class=\"sc-94e50ec4-0 fxiSqU total\"><div class=\"sc-94e50ec4-0 qzEgh sc-d7965a66-0 hxTmOI\"><span class=\"sc-4e4c9eab-2 etMNoc label\">Players</span></div></div></a>,\n",
       " <a class=\"sc-22ef6ec-0 boVFdS\" href=\"/national/france/ligue-1/20242025/regular-season/r81802/transfers/\" style=\"width: 100%;\"><div class=\"sc-94e50ec4-0 fxiSqU total\"><div class=\"sc-94e50ec4-0 qzEgh sc-d7965a66-0 hxTmOI\"><span class=\"sc-4e4c9eab-2 etMNoc label\">Transfers</span></div></div></a>,\n",
       " <a class=\"sc-22ef6ec-0 boVFdS\" href=\"/national/france/ligue-1/20242025/regular-season/r81802/sidelined/\" style=\"width: 100%;\"><div class=\"sc-94e50ec4-0 fxiSqU total\"><div class=\"sc-94e50ec4-0 qzEgh sc-d7965a66-0 hxTmOI\"><span class=\"sc-4e4c9eab-2 etMNoc label\">Sidelined</span></div></div></a>,\n",
       " <a class=\"sc-22ef6ec-0 boVFdS\" href=\"/national/france/ligue-1/20242025/regular-season/r81802/venues/\" style=\"width: 100%;\"><div class=\"sc-94e50ec4-0 fxiSqU total\"><div class=\"sc-94e50ec4-0 qzEgh sc-d7965a66-0 hxTmOI\"><span class=\"sc-4e4c9eab-2 etMNoc label\">Venues</span></div></div></a>,\n",
       " <a class=\"sc-22ef6ec-0 boVFdS\" href=\"/national/france/ligue-1/c16/archive/\" style=\"width: 100%;\"><div class=\"sc-94e50ec4-0 fxiSqU total\"><div class=\"sc-94e50ec4-0 qzEgh sc-d7965a66-0 hxTmOI\"><span class=\"sc-4e4c9eab-2 etMNoc label\">Archive</span></div></div></a>,\n",
       " <a class=\"sc-22ef6ec-0 sc-a1a6abf-2 boVFdS gAkJuB\" href=\"/matches/2025/05/17/france/ligue-1/nantes/montpellier/4373049/\"></a>,\n",
       " <a class=\"sc-22ef6ec-0 sc-a1a6abf-2 boVFdS gAkJuB\" href=\"/matches/2025/05/17/france/ligue-1/lens/monaco/4373050/\"></a>,\n",
       " <a class=\"sc-22ef6ec-0 sc-a1a6abf-2 boVFdS gAkJuB\" href=\"/matches/2025/05/17/france/ligue-1/nice/brest/4373045/\"></a>,\n",
       " <a class=\"sc-22ef6ec-0 sc-a1a6abf-2 boVFdS gAkJuB\" href=\"/matches/2025/05/17/france/ligue-1/marseille/rennes/4373043/\"></a>,\n",
       " <a class=\"sc-22ef6ec-0 sc-a1a6abf-2 boVFdS gAkJuB\" href=\"/matches/2025/05/17/france/ligue-1/lille/reims/4373047/\"></a>,\n",
       " <a class=\"sc-22ef6ec-0 sc-a1a6abf-2 boVFdS gAkJuB\" href=\"/matches/2025/05/17/france/ligue-1/strasbourg/le-havre/4373048/\"></a>,\n",
       " <a class=\"sc-22ef6ec-0 sc-a1a6abf-2 boVFdS gAkJuB\" href=\"/matches/2025/05/17/france/ligue-1/psg/auxerre/4373051/\"></a>,\n",
       " <a class=\"sc-22ef6ec-0 sc-a1a6abf-2 boVFdS gAkJuB\" href=\"/matches/2025/05/17/france/ligue-1/lyon/angers/4373044/\"></a>,\n",
       " <a class=\"sc-22ef6ec-0 sc-a1a6abf-2 boVFdS gAkJuB\" href=\"/matches/2025/05/17/france/ligue-1/saint-tienne/toulouse/4373046/\"></a>]"
      ]
     },
     "execution_count": 8,
     "metadata": {},
     "output_type": "execute_result"
    }
   ],
   "source": [
    "from bs4 import BeautifulSoup\n",
    "\n",
    "soup = BeautifulSoup(driver.page_source, 'html.parser')\n",
    "all_links = soup.find_all('a', href=True)\n",
    "\n",
    "matches = [a for a in all_links if '/matches/' and '/france/ligue-1' in a['href']]\n",
    "matches"
   ]
  },
  {
   "cell_type": "code",
   "execution_count": 9,
   "id": "09df77ca",
   "metadata": {},
   "outputs": [
    {
     "name": "stdout",
     "output_type": "stream",
     "text": [
      "https://ca.soccerway.com/matches/2025/05/17/france/ligue-1/lens/monaco/4373050/\n",
      "https://ca.soccerway.com/matches/2025/05/17/france/ligue-1/lille/reims/4373047/\n",
      "https://ca.soccerway.com/matches/2025/05/17/france/ligue-1/nantes/montpellier/4373049/\n",
      "https://ca.soccerway.com/matches/2025/05/17/france/ligue-1/marseille/rennes/4373043/\n",
      "https://ca.soccerway.com/matches/2025/05/17/france/ligue-1/lyon/angers/4373044/\n",
      "https://ca.soccerway.com/matches/2025/05/17/france/ligue-1/strasbourg/le-havre/4373048/\n",
      "https://ca.soccerway.com/matches/2025/05/17/france/ligue-1/saint-tienne/toulouse/4373046/\n",
      "https://ca.soccerway.com/matches/2025/05/17/france/ligue-1/nice/brest/4373045/\n",
      "https://ca.soccerway.com/matches/2025/05/17/france/ligue-1/psg/auxerre/4373051/\n",
      "Total unique matches collected: 9\n"
     ]
    }
   ],
   "source": [
    "match_hrefs = set()\n",
    "europe_ligues = ['france/ligue-1', 'germany/bundesliga']\n",
    "\n",
    "def get_match_hrefs(years):\n",
    "    all_hrefs = set()\n",
    "    for year in years:\n",
    "        for ligue in europe_ligues:\n",
    "            match_links = driver.find_elements(By.CSS_SELECTOR, f\"a[href*='{ligue}'][href*='/matches/{year}/']\")\n",
    "            hrefs = {a.get_attribute('href') for a in match_links}\n",
    "            all_hrefs.update(hrefs)\n",
    "    return all_hrefs\n",
    "\n",
    "# Example: load matches for 2024 only\n",
    "target_years = [2023, 2024, 2025]  # or [2023, 2024, 2025] if you want multiple\n",
    "hrefs = get_match_hrefs(target_years)\n",
    "\n",
    "match_hrefs.update(hrefs)\n",
    "\n",
    "for href in hrefs:\n",
    "    print(href)\n",
    "\n",
    "print(f\"Total unique matches collected: {len(match_hrefs)}\")\n"
   ]
  },
  {
   "cell_type": "code",
   "execution_count": 10,
   "id": "8a28efce",
   "metadata": {},
   "outputs": [
    {
     "name": "stdout",
     "output_type": "stream",
     "text": [
      "{'https://ca.soccerway.com/matches/2025/05/17/france/ligue-1/lens/monaco/4373050/', 'https://ca.soccerway.com/matches/2025/05/17/france/ligue-1/lille/reims/4373047/', 'https://ca.soccerway.com/matches/2025/05/17/france/ligue-1/nantes/montpellier/4373049/', 'https://ca.soccerway.com/matches/2025/05/17/france/ligue-1/marseille/rennes/4373043/', 'https://ca.soccerway.com/matches/2025/05/17/france/ligue-1/lyon/angers/4373044/', 'https://ca.soccerway.com/matches/2025/05/17/france/ligue-1/strasbourg/le-havre/4373048/', 'https://ca.soccerway.com/matches/2025/05/17/france/ligue-1/saint-tienne/toulouse/4373046/', 'https://ca.soccerway.com/matches/2025/05/17/france/ligue-1/nice/brest/4373045/', 'https://ca.soccerway.com/matches/2025/05/17/france/ligue-1/psg/auxerre/4373051/'}\n"
     ]
    }
   ],
   "source": [
    "print(match_hrefs)"
   ]
  },
  {
   "cell_type": "code",
   "execution_count": 11,
   "id": "69cc6bea",
   "metadata": {},
   "outputs": [],
   "source": [
    "def get_teams(driver):\n",
    "    try:\n",
    "        team_a = driver.find_element(By.XPATH, \"//div[@class='team team-a']//a\").text.strip()\n",
    "        team_b = driver.find_element(By.XPATH, \"//div[@class='team team-b']//a\").text.strip()\n",
    "        return f\"{team_a} vs {team_b}\"\n",
    "    except:\n",
    "        return \"Unknown vs Unknown\""
   ]
  },
  {
   "cell_type": "code",
   "execution_count": 12,
   "id": "71a6f3e4",
   "metadata": {},
   "outputs": [
    {
     "name": "stdout",
     "output_type": "stream",
     "text": [
      "No more 'Load Previous' button or loading stopped: Message: \n",
      "\n",
      "Total matches found for 2025 in france/ligue-1: 9\n",
      "https://ca.soccerway.com/matches/2025/05/17/france/ligue-1/lens/monaco/4373050/\n",
      "https://ca.soccerway.com/matches/2025/05/17/france/ligue-1/lille/reims/4373047/\n",
      "https://ca.soccerway.com/matches/2025/05/17/france/ligue-1/lyon/angers/4373044/\n",
      "https://ca.soccerway.com/matches/2025/05/17/france/ligue-1/marseille/rennes/4373043/\n",
      "https://ca.soccerway.com/matches/2025/05/17/france/ligue-1/nantes/montpellier/4373049/\n",
      "https://ca.soccerway.com/matches/2025/05/17/france/ligue-1/nice/brest/4373045/\n",
      "https://ca.soccerway.com/matches/2025/05/17/france/ligue-1/psg/auxerre/4373051/\n",
      "https://ca.soccerway.com/matches/2025/05/17/france/ligue-1/saint-tienne/toulouse/4373046/\n",
      "https://ca.soccerway.com/matches/2025/05/17/france/ligue-1/strasbourg/le-havre/4373048/\n"
     ]
    }
   ],
   "source": [
    "while True:\n",
    "    try:\n",
    "        consent_button = WebDriverWait(driver, 5).until(\n",
    "                EC.element_to_be_clickable((By.XPATH, \"/html/body/div[8]/div[2]/div[2]/div[2]/button\"))\n",
    "            )\n",
    "        consent_button.click()    # trigger consent button to remove modal\n",
    "        print(\"✅ Consent button clicked.\")\n",
    "    except:\n",
    "        pass    # consent may have been handled\n",
    "        \n",
    "    try:\n",
    "        previous_count = len(match_hrefs)\n",
    "        # remove the pop-up modal, cookie modal, consent button\n",
    "        WebDriverWait(driver, 15).until(\n",
    "            EC.invisibility_of_element_located((By.CLASS_NAME, \"fc-dialog-overlay\"))\n",
    "        )\n",
    "        load_prev_btn = WebDriverWait(driver, 15).until(\n",
    "            EC.element_to_be_clickable((By.XPATH, \"/html/body/div[3]/div/div/div[1]/div/div[3]/div[2]/div/div/div/div[1]/div/div[2]/div[1]/div/div/div/button\"))\n",
    "        )\n",
    "        load_prev_btn.click()   # trigger load previous button\n",
    "        # driver.execute_script(\"arguments[0].click();\", load_prev_btn)\n",
    "        \n",
    "        # Wait for new content to load\n",
    "        time.sleep(4)  # Or better: wait for a new match element to appear\n",
    "        # Get new hrefs\n",
    "        new_hrefs = get_match_hrefs([2023, 2024, 2025])\n",
    "        print(f\"Loaded {len(new_hrefs - match_hrefs)} matches\")\n",
    "        match_hrefs.update(new_hrefs)\n",
    "    except Exception as e:\n",
    "        print(\"No more 'Load Previous' button or loading stopped:\", e)\n",
    "        break\n",
    "    \n",
    "print(f\"Total matches found for 2025 in france/ligue-1: {len(match_hrefs)}\")\n",
    "for href in sorted(match_hrefs):\n",
    "    print(href)"
   ]
  },
  {
   "cell_type": "code",
   "execution_count": 15,
   "id": "2c44761d",
   "metadata": {},
   "outputs": [
    {
     "name": "stdout",
     "output_type": "stream",
     "text": [
      "20'\n",
      "1\n",
      "0\n"
     ]
    }
   ],
   "source": [
    "driver.get(\"https://ca.soccerway.com/matches/2025/05/17/france/ligue-1/strasbourg/le-havre/4373048/\")\n",
    "scored_minute = driver.find_element(By.XPATH, \"/html/body/div[3]/div/div/div[1]/div/div[3]/div[2]/div/div/div/div[1]/div[2]/div/div[2]/div[1]/div[2]/div[2]\")\n",
    "# scored_minute = driver.find_element(By.XPATH, \"/html/body/div[3]/div/div/div[1]/div/div[3]/div[2]/div/div/div/div[1]/div[2]/div/div[2]/div[1]/div[3]/div[2]\")\n",
    "# scored_minute = driver.find_element(By.XPATH, \"/html/body/div[3]/div/div/div[1]/div/div[3]/div[2]/div/div/div/div[1]/div[2]/div/div[2]/div[1]/div[4]/div[2]\")\n",
    "# scored_minute = driver.find_element(By.XPATH, \"/html/body/div[3]/div/div/div[1]/div/div[3]/div[2]/div/div/div/div[1]/div[2]/div/div[2]/div[1]/div[5]/div[2]\")\n",
    "# scored_minute = driver.find_element(By.XPATH, \"/html/body/div[3]/div/div/div[1]/div/div[3]/div[2]/div/div/div/div[1]/div[2]/div/div[2]/div[1]/div[6]/div[2]/span/span\")\n",
    "print(scored_minute.text)\n",
    "# print(type(scored_minute.text))"
   ]
  },
  {
   "cell_type": "code",
   "execution_count": 26,
   "id": "b35da11d",
   "metadata": {},
   "outputs": [
    {
     "name": "stdout",
     "output_type": "stream",
     "text": [
      "[\"20'\"]\n",
      "[\"20'\", \"43'\"]\n",
      "[\"20'\", \"43'\", \"53'\"]\n"
     ]
    }
   ],
   "source": [
    "xpaths = [\n",
    "    \"/html/body/div[3]/div/div/div[1]/div/div[3]/div[2]/div/div/div/div[1]/div[2]/div/div[2]/div[1]/div[2]/div[2]/span/span\",\n",
    "    \"/html/body/div[3]/div/div/div[1]/div/div[3]/div[2]/div/div/div/div[1]/div[2]/div/div[2]/div[1]/div[3]/div[2]/span/span\",\n",
    "    \"/html/body/div[3]/div/div/div[1]/div/div[3]/div[2]/div/div/div/div[1]/div[2]/div/div[2]/div[1]/div[4]/div[2]/span/span\",\n",
    "    \"/html/body/div[3]/div/div/div[1]/div/div[3]/div[2]/div/div/div/div[1]/div[2]/div/div[2]/div[1]/div[5]/div[2]/span/span\",\n",
    "    \"/html/body/div[3]/div/div/div[1]/div/div[3]/div[2]/div/div/div/div[1]/div[2]/div/div[2]/div[1]/div[6]/div[2]/span/span\"\n",
    "]\n",
    "\n",
    "# === Extract and print scored minutes ===\n",
    "minutes_list = []\n",
    "for xpath in xpaths:\n",
    "    try:\n",
    "        scored_minute = driver.find_element(By.XPATH, xpath)\n",
    "        scored_minute_text = scored_minute.text.strip()\n",
    "        # print([scored_minute_text])\n",
    "        if scored_minute_text:\n",
    "            minutes_list.append(scored_minute_text)\n",
    "            print(minutes_list)\n",
    "    except Exception as e:\n",
    "        print(f\"Could not find element at {xpath} - {e}\")"
   ]
  },
  {
   "cell_type": "code",
   "execution_count": 24,
   "id": "31fdd221",
   "metadata": {},
   "outputs": [
    {
     "data": {
      "text/plain": [
       "str"
      ]
     },
     "execution_count": 24,
     "metadata": {},
     "output_type": "execute_result"
    }
   ],
   "source": [
    "type(scored_minute_text)"
   ]
  },
  {
   "cell_type": "code",
   "execution_count": 28,
   "id": "1777bfb6",
   "metadata": {},
   "outputs": [
    {
     "name": "stdout",
     "output_type": "stream",
     "text": [
      "[20, 43, 53]\n"
     ]
    }
   ],
   "source": [
    "def parse_minute(minute_str):\n",
    "    # Handle \"90+3'\" -> 93, \"45'\" -> 45\n",
    "    minute_str = minute_str.replace(\"'\", \"\").strip()\n",
    "    if \"+\" in minute_str:\n",
    "        base, extra = minute_str.split(\"+\")\n",
    "        return int(base) + int(extra)\n",
    "    return int(minute_str)\n",
    "\n",
    "parsed_minutes = [parse_minute(minute) for minute in minutes_list]\n",
    "print(parsed_minutes)  # e.g., [20, 43, 53]"
   ]
  },
  {
   "cell_type": "code",
   "execution_count": 80,
   "id": "44983de3",
   "metadata": {},
   "outputs": [
    {
     "data": {
      "text/plain": [
       "[]"
      ]
     },
     "execution_count": 80,
     "metadata": {},
     "output_type": "execute_result"
    }
   ],
   "source": [
    "import re\n",
    "\n",
    "valid_minutes = [entry for entry in scored_minute.text if re.search(r\"Scored minute: \\d+'\", entry)]\n",
    "valid_minutes"
   ]
  },
  {
   "cell_type": "code",
   "execution_count": 76,
   "id": "064586e4",
   "metadata": {},
   "outputs": [
    {
     "name": "stdout",
     "output_type": "stream",
     "text": [
      "Valid minutes: []\n"
     ]
    }
   ],
   "source": [
    "valid_minutes = [entry for entry in scored_minute.text.split() if entry.isdigit() and 0 < int(entry) <= 70]\n",
    "print(\"Valid minutes:\", valid_minutes)"
   ]
  },
  {
   "cell_type": "code",
   "execution_count": 48,
   "id": "f8641f17",
   "metadata": {},
   "outputs": [],
   "source": [
    "def get_goal_minutes(goal_events_div_xpath):  # arg: goal_events_div_xpath\n",
    "    try:\n",
    "        team_div = driver.find_element(By.XPATH, goal_events_div_xpath)\n",
    "        spans = team_div.find_elements(By.XPATH, \".//span\")\n",
    "        minutes = []\n",
    "        for span in spans:\n",
    "            text = span.text.strip()\n",
    "            if \"'\" in text:\n",
    "                try:\n",
    "                    minute = int(text.replace(\"'\", \"\").split('+')[0])\n",
    "                    minutes.append(minute)\n",
    "                except ValueError:\n",
    "                    continue\n",
    "        return minutes\n",
    "    except NoSuchElementException:\n",
    "        print(f\"⚠️ No goal data found at {goal_events_div_xpath} for {driver.current_url}\")\n",
    "        return []"
   ]
  },
  {
   "cell_type": "code",
   "execution_count": 70,
   "id": "bb41ee3e",
   "metadata": {},
   "outputs": [
    {
     "data": {
      "text/plain": [
       "[]"
      ]
     },
     "execution_count": 70,
     "metadata": {},
     "output_type": "execute_result"
    }
   ],
   "source": [
    "get_goal_minutes(\"/html/body/div[3]/div/div/div[1]/div/div[3]/div[2]/div/div/div/div[1]/div[2]/div/div[2]/div[1]/div[5]/div[2]\")"
   ]
  },
  {
   "cell_type": "code",
   "execution_count": 29,
   "id": "ec88b494",
   "metadata": {},
   "outputs": [
    {
     "name": "stdout",
     "output_type": "stream",
     "text": [
      "Valid Scored Minutes: []\n"
     ]
    }
   ],
   "source": [
    "scored_minutes = []\n",
    "index = 1\n",
    "\n",
    "while True:\n",
    "    try:\n",
    "        xpath = f\"(//div[contains(text(), 'Scored minute:')])[{index}]\"\n",
    "        element = driver.find_element(By.XPATH, xpath)\n",
    "        text = element.text.strip()\n",
    "\n",
    "        # Check if it's a valid minute using regex\n",
    "        match = re.search(r\"(\\d+)'\", text)\n",
    "        if match:\n",
    "            minute = int(match.group(1))\n",
    "            scored_minutes.append(minute)\n",
    "        else:\n",
    "            # Blank or invalid format → end loop\n",
    "            break\n",
    "\n",
    "        index += 1\n",
    "    except Exception:\n",
    "        # Element not found or no more matches\n",
    "        break\n",
    "\n",
    "print(\"Valid Scored Minutes:\", scored_minutes)"
   ]
  },
  {
   "cell_type": "code",
   "execution_count": null,
   "id": "2146b036",
   "metadata": {},
   "outputs": [
    {
     "name": "stdout",
     "output_type": "stream",
     "text": [
      "[\"37'\"]\n",
      "[\"37'\", \"60'\"]\n",
      "[\"37'\", \"60'\", \"86'\"]\n",
      "Could not find element at /html/body/div[3]/div/div/div[1]/div/div[3]/div[2]/div/div/div/div[1]/div[2]/div/div[2]/div[1]/div[5]/div[2]/span/span - Message: no such element: Unable to locate element: {\"method\":\"xpath\",\"selector\":\"/html/body/div[3]/div/div/div[1]/div/div[3]/div[2]/div/div/div/div[1]/div[2]/div/div[2]/div[1]/div[5]/div[2]/span/span\"}\n",
      "  (Session info: chrome=138.0.7204.183); For documentation on this error, please visit: https://www.selenium.dev/documentation/webdriver/troubleshooting/errors#nosuchelementexception\n",
      "Stacktrace:\n",
      "#0 0x55cd901972ca <unknown>\n",
      "#1 0x55cd8fc3e550 <unknown>\n",
      "#2 0x55cd8fc900f0 <unknown>\n",
      "#3 0x55cd8fc902e1 <unknown>\n",
      "#4 0x55cd8fcde5e4 <unknown>\n",
      "#5 0x55cd8fcb5bed <unknown>\n",
      "#6 0x55cd8fcdb9e6 <unknown>\n",
      "#7 0x55cd8fcb5993 <unknown>\n",
      "#8 0x55cd8fc81d6b <unknown>\n",
      "#9 0x55cd8fc83141 <unknown>\n",
      "#10 0x55cd9015c2ab <unknown>\n",
      "#11 0x55cd901600b9 <unknown>\n",
      "#12 0x55cd90143139 <unknown>\n",
      "#13 0x55cd90160c68 <unknown>\n",
      "#14 0x55cd9012760f <unknown>\n",
      "#15 0x55cd901851f8 <unknown>\n",
      "#16 0x55cd901853d6 <unknown>\n",
      "#17 0x55cd901965e6 <unknown>\n",
      "#18 0x7d080149caa4 <unknown>\n",
      "#19 0x7d0801529c3c <unknown>\n",
      "\n",
      "Could not find element at /html/body/div[3]/div/div/div[1]/div/div[3]/div[2]/div/div/div/div[1]/div[2]/div/div[2]/div[1]/div[6]/div[2]/span/span - Message: no such element: Unable to locate element: {\"method\":\"xpath\",\"selector\":\"/html/body/div[3]/div/div/div[1]/div/div[3]/div[2]/div/div/div/div[1]/div[2]/div/div[2]/div[1]/div[6]/div[2]/span/span\"}\n",
      "  (Session info: chrome=138.0.7204.183); For documentation on this error, please visit: https://www.selenium.dev/documentation/webdriver/troubleshooting/errors#nosuchelementexception\n",
      "Stacktrace:\n",
      "#0 0x55cd901972ca <unknown>\n",
      "#1 0x55cd8fc3e550 <unknown>\n",
      "#2 0x55cd8fc900f0 <unknown>\n",
      "#3 0x55cd8fc902e1 <unknown>\n",
      "#4 0x55cd8fcde5e4 <unknown>\n",
      "#5 0x55cd8fcb5bed <unknown>\n",
      "#6 0x55cd8fcdb9e6 <unknown>\n",
      "#7 0x55cd8fcb5993 <unknown>\n",
      "#8 0x55cd8fc81d6b <unknown>\n",
      "#9 0x55cd8fc83141 <unknown>\n",
      "#10 0x55cd9015c2ab <unknown>\n",
      "#11 0x55cd901600b9 <unknown>\n",
      "#12 0x55cd90143139 <unknown>\n",
      "#13 0x55cd90160c68 <unknown>\n",
      "#14 0x55cd9012760f <unknown>\n",
      "#15 0x55cd901851f8 <unknown>\n",
      "#16 0x55cd901853d6 <unknown>\n",
      "#17 0x55cd901965e6 <unknown>\n",
      "#18 0x7d080149caa4 <unknown>\n",
      "#19 0x7d0801529c3c <unknown>\n",
      "\n",
      "[\"55'\"]\n",
      "[\"55'\", \"72'\"]\n",
      "Could not find element at /html/body/div[3]/div/div/div[1]/div/div[3]/div[2]/div/div/div/div[1]/div[2]/div/div[2]/div[1]/div[4]/div[2]/span/span - Message: no such element: Unable to locate element: {\"method\":\"xpath\",\"selector\":\"/html/body/div[3]/div/div/div[1]/div/div[3]/div[2]/div/div/div/div[1]/div[2]/div/div[2]/div[1]/div[4]/div[2]/span/span\"}\n",
      "  (Session info: chrome=138.0.7204.183); For documentation on this error, please visit: https://www.selenium.dev/documentation/webdriver/troubleshooting/errors#nosuchelementexception\n",
      "Stacktrace:\n",
      "#0 0x55cd901972ca <unknown>\n",
      "#1 0x55cd8fc3e550 <unknown>\n",
      "#2 0x55cd8fc900f0 <unknown>\n",
      "#3 0x55cd8fc902e1 <unknown>\n",
      "#4 0x55cd8fcde5e4 <unknown>\n",
      "#5 0x55cd8fcb5bed <unknown>\n",
      "#6 0x55cd8fcdb9e6 <unknown>\n",
      "#7 0x55cd8fcb5993 <unknown>\n",
      "#8 0x55cd8fc81d6b <unknown>\n",
      "#9 0x55cd8fc83141 <unknown>\n",
      "#10 0x55cd9015c2ab <unknown>\n",
      "#11 0x55cd901600b9 <unknown>\n",
      "#12 0x55cd90143139 <unknown>\n",
      "#13 0x55cd90160c68 <unknown>\n",
      "#14 0x55cd9012760f <unknown>\n",
      "#15 0x55cd901851f8 <unknown>\n",
      "#16 0x55cd901853d6 <unknown>\n",
      "#17 0x55cd901965e6 <unknown>\n",
      "#18 0x7d080149caa4 <unknown>\n",
      "#19 0x7d0801529c3c <unknown>\n",
      "\n",
      "Could not find element at /html/body/div[3]/div/div/div[1]/div/div[3]/div[2]/div/div/div/div[1]/div[2]/div/div[2]/div[1]/div[5]/div[2]/span/span - Message: no such element: Unable to locate element: {\"method\":\"xpath\",\"selector\":\"/html/body/div[3]/div/div/div[1]/div/div[3]/div[2]/div/div/div/div[1]/div[2]/div/div[2]/div[1]/div[5]/div[2]/span/span\"}\n",
      "  (Session info: chrome=138.0.7204.183); For documentation on this error, please visit: https://www.selenium.dev/documentation/webdriver/troubleshooting/errors#nosuchelementexception\n",
      "Stacktrace:\n",
      "#0 0x55cd901972ca <unknown>\n",
      "#1 0x55cd8fc3e550 <unknown>\n",
      "#2 0x55cd8fc900f0 <unknown>\n",
      "#3 0x55cd8fc902e1 <unknown>\n",
      "#4 0x55cd8fcde5e4 <unknown>\n",
      "#5 0x55cd8fcb5bed <unknown>\n",
      "#6 0x55cd8fcdb9e6 <unknown>\n",
      "#7 0x55cd8fcb5993 <unknown>\n",
      "#8 0x55cd8fc81d6b <unknown>\n",
      "#9 0x55cd8fc83141 <unknown>\n",
      "#10 0x55cd9015c2ab <unknown>\n",
      "#11 0x55cd901600b9 <unknown>\n",
      "#12 0x55cd90143139 <unknown>\n",
      "#13 0x55cd90160c68 <unknown>\n",
      "#14 0x55cd9012760f <unknown>\n",
      "#15 0x55cd901851f8 <unknown>\n",
      "#16 0x55cd901853d6 <unknown>\n",
      "#17 0x55cd901965e6 <unknown>\n",
      "#18 0x7d080149caa4 <unknown>\n",
      "#19 0x7d0801529c3c <unknown>\n",
      "\n",
      "Could not find element at /html/body/div[3]/div/div/div[1]/div/div[3]/div[2]/div/div/div/div[1]/div[2]/div/div[2]/div[1]/div[6]/div[2]/span/span - Message: no such element: Unable to locate element: {\"method\":\"xpath\",\"selector\":\"/html/body/div[3]/div/div/div[1]/div/div[3]/div[2]/div/div/div/div[1]/div[2]/div/div[2]/div[1]/div[6]/div[2]/span/span\"}\n",
      "  (Session info: chrome=138.0.7204.183); For documentation on this error, please visit: https://www.selenium.dev/documentation/webdriver/troubleshooting/errors#nosuchelementexception\n",
      "Stacktrace:\n",
      "#0 0x55cd901972ca <unknown>\n",
      "#1 0x55cd8fc3e550 <unknown>\n",
      "#2 0x55cd8fc900f0 <unknown>\n",
      "#3 0x55cd8fc902e1 <unknown>\n",
      "#4 0x55cd8fcde5e4 <unknown>\n",
      "#5 0x55cd8fcb5bed <unknown>\n",
      "#6 0x55cd8fcdb9e6 <unknown>\n",
      "#7 0x55cd8fcb5993 <unknown>\n",
      "#8 0x55cd8fc81d6b <unknown>\n",
      "#9 0x55cd8fc83141 <unknown>\n",
      "#10 0x55cd9015c2ab <unknown>\n",
      "#11 0x55cd901600b9 <unknown>\n",
      "#12 0x55cd90143139 <unknown>\n",
      "#13 0x55cd90160c68 <unknown>\n",
      "#14 0x55cd9012760f <unknown>\n",
      "#15 0x55cd901851f8 <unknown>\n",
      "#16 0x55cd901853d6 <unknown>\n",
      "#17 0x55cd901965e6 <unknown>\n",
      "#18 0x7d080149caa4 <unknown>\n",
      "#19 0x7d0801529c3c <unknown>\n",
      "\n",
      "\n",
      "✅ Total 0-0 games: 0\n",
      "✅ Total 1-3 goal games with first goal after 70th minute: 5\n",
      "✅ Matches where all goals were after 70th minute:\n",
      " - Lille 2 vs 1 Reims\n",
      " - Lille 2 vs 1 Reims\n",
      " - Lille 2 vs 1 Reims\n",
      " - Lyon 2 vs 0 Angers\n",
      " - Lyon 2 vs 0 Angers\n"
     ]
    }
   ],
   "source": [
    "zero_zero_count = 0\n",
    "late_goals_count = 0\n",
    "valid_scores = {'0 - 1', '1 - 0', '1 - 1', '0 - 2', '2 - 0', '1 - 2', '2 - 1'}\n",
    "late_goal_teams = []\n",
    "late_goal_matches = []\n",
    "goal_count = 0\n",
    "\n",
    "for href in match_hrefs:\n",
    "    driver.get(href)\n",
    "    time.sleep(2)\n",
    "    \n",
    "    try:\n",
    "        # Handle consent popup\n",
    "        consent_button = driver.find_element(By.XPATH, \"/html/body/div[8]/div[2]/div[2]/div[2]/button\")\n",
    "        consent_button.click()\n",
    "        time.sleep(1)\n",
    "    except:\n",
    "        pass  # Consent may have already been handled\n",
    "\n",
    "    try:\n",
    "        home_score_elem = driver.find_element(By.XPATH, \"/html/body/div[3]/div/div/div[1]/div/div[1]/div/div[3]/div/div/div/div[1]/div\")\n",
    "        away_score_elem = driver.find_element(By.XPATH, \"/html/body/div[3]/div/div/div[1]/div/div[1]/div/div[3]/div/div/div/div[3]/div\")\n",
    "        home_team_elem = driver.find_element(By.XPATH, \"/html/body/div[3]/div/div/div[1]/div/div[1]/div/div[3]/div/a[1]/div\")\n",
    "        away_team_elem = driver.find_element(By.XPATH, \"/html/body/div[3]/div/div/div[1]/div/div[1]/div/div[3]/div/a[2]/div\")\n",
    "\n",
    "        home_score = int(home_score_elem.text.strip())\n",
    "        away_score = int(away_score_elem.text.strip())\n",
    "        score = f\"{home_score} - {away_score}\"\n",
    "        total_goals = home_score + away_score\n",
    "\n",
    "        if score == \"0 - 0\":\n",
    "            zero_zero_count += 1\n",
    "            print(zero_zero_count)\n",
    "            continue\n",
    "        \n",
    "        if score in valid_scores and 1 <= total_goals <= 3:\n",
    "            # home_goals_minutes = get_goal_minutes(\"/html/body/div[3]/div/div/div[1]/div/div[1]/div/div[5]/div[1]\")\n",
    "            # away_goals_minutes = get_goal_minutes(\"/html/body/div[3]/div/div/div[1]/div/div[1]/div/div[5]/div[2]\")\n",
    "            xpaths = [\n",
    "                \"/html/body/div[3]/div/div/div[1]/div/div[3]/div[2]/div/div/div/div[1]/div[2]/div/div[2]/div[1]/div[2]/div[2]/span/span\",\n",
    "                \"/html/body/div[3]/div/div/div[1]/div/div[3]/div[2]/div/div/div/div[1]/div[2]/div/div[2]/div[1]/div[3]/div[2]/span/span\",\n",
    "                \"/html/body/div[3]/div/div/div[1]/div/div[3]/div[2]/div/div/div/div[1]/div[2]/div/div[2]/div[1]/div[4]/div[2]/span/span\",\n",
    "                \"/html/body/div[3]/div/div/div[1]/div/div[3]/div[2]/div/div/div/div[1]/div[2]/div/div[2]/div[1]/div[5]/div[2]/span/span\",\n",
    "                \"/html/body/div[3]/div/div/div[1]/div/div[3]/div[2]/div/div/div/div[1]/div[2]/div/div[2]/div[1]/div[6]/div[2]/span/span\"\n",
    "            ]\n",
    "\n",
    "            # === Extract and print scored minutes ===\n",
    "            minutes_list = []\n",
    "            for xpath in xpaths:\n",
    "                try:\n",
    "                    scored_minute = driver.find_element(By.XPATH, xpath)\n",
    "                    scored_minute_text = scored_minute.text.strip()\n",
    "                    # print([scored_minute_text])\n",
    "                    if not scored_minute_text:\n",
    "                        break  # Stop if no more scored minutes\n",
    "                    minutes_list.append(scored_minute_text)\n",
    "                    print(minutes_list)\n",
    "                except Exception as e:\n",
    "                    print(f\"Could not find element at {xpath} - {e}\")\n",
    "                    \n",
    "            parsed_minutes = [parse_minute(minute) for minute in minutes_list]  # e.g., [20, 43, 53]\n",
    "            # print(parsed_minutes)  # e.g., [20, 43, 53]\n",
    "            \n",
    "            for minute in parsed_minutes:\n",
    "                if minute <= 70:\n",
    "                    goal_count += 1\n",
    "                \n",
    "                    # Check if goal_count is valid and all goals are after 70th minute\n",
    "                if goal_count and 1 <= minute <= 90:\n",
    "                    late_goals_count += 1\n",
    "                    late_goal_teams.append(f\"{home_team_elem.text.strip()} {int(home_score_elem.text.strip())} vs {int(away_score_elem.text.strip())} {away_team_elem.text.strip()}\")\n",
    "\n",
    "            # all_goals = sorted(home_goals_minutes + away_goals_minutes)\n",
    "\n",
    "            # if all_goals and all(minute >= 70 for minute in all_goals):\n",
    "            #     late_goals_count += 1\n",
    "            #     late_goal_teams.append(f\"{home_team_elem.text.strip()} vs {away_team_elem.text.strip()}\")\n",
    "            \n",
    "            late_goal_matches.append({\n",
    "                \"zero_zero_count\": zero_zero_count,\n",
    "                \"late_goals_count\": late_goals_count,\n",
    "                \"late_goal_teams\": late_goal_teams,\n",
    "                \"goal_count\": goal_count\n",
    "            })\n",
    "            \n",
    "            df_zero = pd.DataFrame([{\"0-0 Count\": zero_zero_count}])\n",
    "            df_late = pd.DataFrame(late_goal_matches)\n",
    "\n",
    "            df_zero.to_csv(\"data/zero_zero_matches.csv\", index=False)\n",
    "            df_late.to_csv(\"data/late_goal_matches.csv\", index=False)\n",
    "\n",
    "    except Exception as e:\n",
    "        print(f\"Error processing {href}: {e}\")\n",
    "        continue\n",
    "\n",
    "print(f\"\\n✅ Total 0-0 games: {zero_zero_count}\")\n",
    "print(f\"✅ Total 1-3 goal games with first goal after 70th minute: {late_goals_count}\")\n",
    "print(\"✅ Matches where all goals were after 70th minute:\")\n",
    "for match in late_goal_teams:\n",
    "    print(f\" - {match}\")\n"
   ]
  },
  {
   "cell_type": "code",
   "execution_count": 72,
   "id": "d9a97401",
   "metadata": {},
   "outputs": [],
   "source": [
    "def extract_match_data(driver, match_hrefs):\n",
    "    zero_zero_count = 0\n",
    "    late_goals_count = 0\n",
    "    valid_scores = {'0 - 1', '1 - 0', '1 - 1', '0 - 2', '2 - 0', '1 - 2', '2 - 1'}\n",
    "    late_goal_teams = []\n",
    "    late_goal_matches = []\n",
    "    goal_count = 0\n",
    "\n",
    "    for href in match_hrefs:\n",
    "        driver.get(href)\n",
    "        time.sleep(2)\n",
    "        \n",
    "        try:\n",
    "            # Handle consent popup\n",
    "            consent_button = driver.find_element(By.XPATH, \"/html/body/div[8]/div[2]/div[2]/div[2]/button\")\n",
    "            consent_button.click()\n",
    "            time.sleep(1)\n",
    "        except:\n",
    "            pass  # Consent may have already been handled\n",
    "\n",
    "        try:\n",
    "            home_score_elem = driver.find_element(By.XPATH, \"/html/body/div[3]/div/div/div[1]/div/div[1]/div/div[3]/div/div/div/div[1]/div\")\n",
    "            away_score_elem = driver.find_element(By.XPATH, \"/html/body/div[3]/div/div/div[1]/div/div[1]/div/div[3]/div/div/div/div[3]/div\")\n",
    "            home_team_elem = driver.find_element(By.XPATH, \"/html/body/div[3]/div/div/div[1]/div/div[1]/div/div[3]/div/a[1]/div\")\n",
    "            away_team_elem = driver.find_element(By.XPATH, \"/html/body/div[3]/div/div/div[1]/div/div[1]/div/div[3]/div/a[2]/div\")\n",
    "\n",
    "            home_score = int(home_score_elem.text.strip())\n",
    "            away_score = int(away_score_elem.text.strip())\n",
    "            score = f\"{home_score} - {away_score}\"\n",
    "            total_goals = home_score + away_score\n",
    "\n",
    "            if score == \"0 - 0\":\n",
    "                zero_zero_count += 1\n",
    "                print(zero_zero_count)\n",
    "                continue\n",
    "            \n",
    "            if score in valid_scores and 1 <= total_goals <= 3:\n",
    "                # home_goals_minutes = get_goal_minutes(\"/html/body/div[3]/div/div/div[1]/div/div[1]/div/div[5]/div[1]\")\n",
    "                # away_goals_minutes = get_goal_minutes(\"/html/body/div[3]/div/div/div[1]/div/div[1]/div/div[5]/div[2]\")\n",
    "                xpaths = [\n",
    "                    \"/html/body/div[3]/div/div/div[1]/div/div[3]/div[2]/div/div/div/div[1]/div[2]/div/div[2]/div[1]/div[2]/div[2]/span/span\",\n",
    "                    \"/html/body/div[3]/div/div/div[1]/div/div[3]/div[2]/div/div/div/div[1]/div[2]/div/div[2]/div[1]/div[3]/div[2]/span/span\",\n",
    "                    \"/html/body/div[3]/div/div/div[1]/div/div[3]/div[2]/div/div/div/div[1]/div[2]/div/div[2]/div[1]/div[4]/div[2]/span/span\",\n",
    "                    \"/html/body/div[3]/div/div/div[1]/div/div[3]/div[2]/div/div/div/div[1]/div[2]/div/div[2]/div[1]/div[5]/div[2]/span/span\",\n",
    "                    \"/html/body/div[3]/div/div/div[1]/div/div[3]/div[2]/div/div/div/div[1]/div[2]/div/div[2]/div[1]/div[6]/div[2]/span/span\"\n",
    "                ]\n",
    "\n",
    "                # === Extract and print scored minutes ===\n",
    "                minutes_list = []\n",
    "                for xpath in xpaths:\n",
    "                    try:\n",
    "                        scored_minute = driver.find_element(By.XPATH, xpath)\n",
    "                        scored_minute_text = scored_minute.text.strip()\n",
    "                        # print([scored_minute_text])\n",
    "                        if not scored_minute_text:\n",
    "                            break  # Stop if no more scored minutes\n",
    "                        minutes_list.append(scored_minute_text)\n",
    "                        print(minutes_list)\n",
    "                    except Exception as e:\n",
    "                        print(f\"Could not find element at {xpath} - {e}\")\n",
    "                        \n",
    "                parsed_minutes = [parse_minute(minute) for minute in minutes_list]  # e.g., [20, 43, 53]\n",
    "                # print(parsed_minutes)  # e.g., [20, 43, 53]\n",
    "                \n",
    "                for minute in parsed_minutes:\n",
    "                    if minute <= 70:\n",
    "                        goal_count += 1\n",
    "                    \n",
    "                        # Check if goal_count is valid and all goals are after 70th minute\n",
    "                    if goal_count and 1 <= minute <= 90:\n",
    "                        late_goals_count += 1\n",
    "                        late_goal_teams.append(f\"{home_team_elem.text.strip()} {int(home_score_elem.text.strip())} vs {int(away_score_elem.text.strip())} {away_team_elem.text.strip()}\")\n",
    "\n",
    "                # all_goals = sorted(home_goals_minutes + away_goals_minutes)\n",
    "\n",
    "                # if all_goals and all(minute >= 70 for minute in all_goals):\n",
    "                #     late_goals_count += 1\n",
    "                #     late_goal_teams.append(f\"{home_team_elem.text.strip()} vs {away_team_elem.text.strip()}\")\n",
    "                late_goal_matches.append({\n",
    "                    \"zero_zero_count\": zero_zero_count,\n",
    "                    \"late_goals_count\": late_goals_count,\n",
    "                    \"late_goal_teams\": late_goal_teams,\n",
    "                    \"goal_count\": goal_count\n",
    "                })\n",
    "                \n",
    "                df_zero = pd.DataFrame([{\"0-0 Count\": zero_zero_count}])\n",
    "                df_late = pd.DataFrame(late_goal_matches)\n",
    "\n",
    "                df_zero.to_csv(\"data/zero_zero_matches.csv\", index=False)\n",
    "                df_late.to_csv(\"data/late_goal_matches.csv\", index=False)\n",
    "\n",
    "        except Exception as e:\n",
    "            print(f\"Error processing {href}: {e}\")\n",
    "            continue\n",
    "        \n",
    "    return df_zero, df_late"
   ]
  },
  {
   "cell_type": "code",
   "execution_count": 73,
   "id": "a67e46da",
   "metadata": {},
   "outputs": [
    {
     "name": "stdout",
     "output_type": "stream",
     "text": [
      "[\"37'\"]\n",
      "[\"37'\", \"60'\"]\n",
      "[\"37'\", \"60'\", \"86'\"]\n",
      "Could not find element at /html/body/div[3]/div/div/div[1]/div/div[3]/div[2]/div/div/div/div[1]/div[2]/div/div[2]/div[1]/div[5]/div[2]/span/span - Message: no such element: Unable to locate element: {\"method\":\"xpath\",\"selector\":\"/html/body/div[3]/div/div/div[1]/div/div[3]/div[2]/div/div/div/div[1]/div[2]/div/div[2]/div[1]/div[5]/div[2]/span/span\"}\n",
      "  (Session info: chrome=138.0.7204.183); For documentation on this error, please visit: https://www.selenium.dev/documentation/webdriver/troubleshooting/errors#nosuchelementexception\n",
      "Stacktrace:\n",
      "#0 0x55cd901972ca <unknown>\n",
      "#1 0x55cd8fc3e550 <unknown>\n",
      "#2 0x55cd8fc900f0 <unknown>\n",
      "#3 0x55cd8fc902e1 <unknown>\n",
      "#4 0x55cd8fcde5e4 <unknown>\n",
      "#5 0x55cd8fcb5bed <unknown>\n",
      "#6 0x55cd8fcdb9e6 <unknown>\n",
      "#7 0x55cd8fcb5993 <unknown>\n",
      "#8 0x55cd8fc81d6b <unknown>\n",
      "#9 0x55cd8fc83141 <unknown>\n",
      "#10 0x55cd9015c2ab <unknown>\n",
      "#11 0x55cd901600b9 <unknown>\n",
      "#12 0x55cd90143139 <unknown>\n",
      "#13 0x55cd90160c68 <unknown>\n",
      "#14 0x55cd9012760f <unknown>\n",
      "#15 0x55cd901851f8 <unknown>\n",
      "#16 0x55cd901853d6 <unknown>\n",
      "#17 0x55cd901965e6 <unknown>\n",
      "#18 0x7d080149caa4 <unknown>\n",
      "#19 0x7d0801529c3c <unknown>\n",
      "\n",
      "Could not find element at /html/body/div[3]/div/div/div[1]/div/div[3]/div[2]/div/div/div/div[1]/div[2]/div/div[2]/div[1]/div[6]/div[2]/span/span - Message: no such element: Unable to locate element: {\"method\":\"xpath\",\"selector\":\"/html/body/div[3]/div/div/div[1]/div/div[3]/div[2]/div/div/div/div[1]/div[2]/div/div[2]/div[1]/div[6]/div[2]/span/span\"}\n",
      "  (Session info: chrome=138.0.7204.183); For documentation on this error, please visit: https://www.selenium.dev/documentation/webdriver/troubleshooting/errors#nosuchelementexception\n",
      "Stacktrace:\n",
      "#0 0x55cd901972ca <unknown>\n",
      "#1 0x55cd8fc3e550 <unknown>\n",
      "#2 0x55cd8fc900f0 <unknown>\n",
      "#3 0x55cd8fc902e1 <unknown>\n",
      "#4 0x55cd8fcde5e4 <unknown>\n",
      "#5 0x55cd8fcb5bed <unknown>\n",
      "#6 0x55cd8fcdb9e6 <unknown>\n",
      "#7 0x55cd8fcb5993 <unknown>\n",
      "#8 0x55cd8fc81d6b <unknown>\n",
      "#9 0x55cd8fc83141 <unknown>\n",
      "#10 0x55cd9015c2ab <unknown>\n",
      "#11 0x55cd901600b9 <unknown>\n",
      "#12 0x55cd90143139 <unknown>\n",
      "#13 0x55cd90160c68 <unknown>\n",
      "#14 0x55cd9012760f <unknown>\n",
      "#15 0x55cd901851f8 <unknown>\n",
      "#16 0x55cd901853d6 <unknown>\n",
      "#17 0x55cd901965e6 <unknown>\n",
      "#18 0x7d080149caa4 <unknown>\n",
      "#19 0x7d0801529c3c <unknown>\n",
      "\n",
      "Error processing https://ca.soccerway.com/matches/2025/05/17/france/ligue-1/lille/reims/4373047/: Cannot save file into a non-existent directory: 'data'\n",
      "[\"55'\"]\n",
      "[\"55'\", \"72'\"]\n",
      "Could not find element at /html/body/div[3]/div/div/div[1]/div/div[3]/div[2]/div/div/div/div[1]/div[2]/div/div[2]/div[1]/div[4]/div[2]/span/span - Message: no such element: Unable to locate element: {\"method\":\"xpath\",\"selector\":\"/html/body/div[3]/div/div/div[1]/div/div[3]/div[2]/div/div/div/div[1]/div[2]/div/div[2]/div[1]/div[4]/div[2]/span/span\"}\n",
      "  (Session info: chrome=138.0.7204.183); For documentation on this error, please visit: https://www.selenium.dev/documentation/webdriver/troubleshooting/errors#nosuchelementexception\n",
      "Stacktrace:\n",
      "#0 0x55cd901972ca <unknown>\n",
      "#1 0x55cd8fc3e550 <unknown>\n",
      "#2 0x55cd8fc900f0 <unknown>\n",
      "#3 0x55cd8fc902e1 <unknown>\n",
      "#4 0x55cd8fcde5e4 <unknown>\n",
      "#5 0x55cd8fcb5bed <unknown>\n",
      "#6 0x55cd8fcdb9e6 <unknown>\n",
      "#7 0x55cd8fcb5993 <unknown>\n",
      "#8 0x55cd8fc81d6b <unknown>\n",
      "#9 0x55cd8fc83141 <unknown>\n",
      "#10 0x55cd9015c2ab <unknown>\n",
      "#11 0x55cd901600b9 <unknown>\n",
      "#12 0x55cd90143139 <unknown>\n",
      "#13 0x55cd90160c68 <unknown>\n",
      "#14 0x55cd9012760f <unknown>\n",
      "#15 0x55cd901851f8 <unknown>\n",
      "#16 0x55cd901853d6 <unknown>\n",
      "#17 0x55cd901965e6 <unknown>\n",
      "#18 0x7d080149caa4 <unknown>\n",
      "#19 0x7d0801529c3c <unknown>\n",
      "\n",
      "Could not find element at /html/body/div[3]/div/div/div[1]/div/div[3]/div[2]/div/div/div/div[1]/div[2]/div/div[2]/div[1]/div[5]/div[2]/span/span - Message: no such element: Unable to locate element: {\"method\":\"xpath\",\"selector\":\"/html/body/div[3]/div/div/div[1]/div/div[3]/div[2]/div/div/div/div[1]/div[2]/div/div[2]/div[1]/div[5]/div[2]/span/span\"}\n",
      "  (Session info: chrome=138.0.7204.183); For documentation on this error, please visit: https://www.selenium.dev/documentation/webdriver/troubleshooting/errors#nosuchelementexception\n",
      "Stacktrace:\n",
      "#0 0x55cd901972ca <unknown>\n",
      "#1 0x55cd8fc3e550 <unknown>\n",
      "#2 0x55cd8fc900f0 <unknown>\n",
      "#3 0x55cd8fc902e1 <unknown>\n",
      "#4 0x55cd8fcde5e4 <unknown>\n",
      "#5 0x55cd8fcb5bed <unknown>\n",
      "#6 0x55cd8fcdb9e6 <unknown>\n",
      "#7 0x55cd8fcb5993 <unknown>\n",
      "#8 0x55cd8fc81d6b <unknown>\n",
      "#9 0x55cd8fc83141 <unknown>\n",
      "#10 0x55cd9015c2ab <unknown>\n",
      "#11 0x55cd901600b9 <unknown>\n",
      "#12 0x55cd90143139 <unknown>\n",
      "#13 0x55cd90160c68 <unknown>\n",
      "#14 0x55cd9012760f <unknown>\n",
      "#15 0x55cd901851f8 <unknown>\n",
      "#16 0x55cd901853d6 <unknown>\n",
      "#17 0x55cd901965e6 <unknown>\n",
      "#18 0x7d080149caa4 <unknown>\n",
      "#19 0x7d0801529c3c <unknown>\n",
      "\n",
      "Could not find element at /html/body/div[3]/div/div/div[1]/div/div[3]/div[2]/div/div/div/div[1]/div[2]/div/div[2]/div[1]/div[6]/div[2]/span/span - Message: no such element: Unable to locate element: {\"method\":\"xpath\",\"selector\":\"/html/body/div[3]/div/div/div[1]/div/div[3]/div[2]/div/div/div/div[1]/div[2]/div/div[2]/div[1]/div[6]/div[2]/span/span\"}\n",
      "  (Session info: chrome=138.0.7204.183); For documentation on this error, please visit: https://www.selenium.dev/documentation/webdriver/troubleshooting/errors#nosuchelementexception\n",
      "Stacktrace:\n",
      "#0 0x55cd901972ca <unknown>\n",
      "#1 0x55cd8fc3e550 <unknown>\n",
      "#2 0x55cd8fc900f0 <unknown>\n",
      "#3 0x55cd8fc902e1 <unknown>\n",
      "#4 0x55cd8fcde5e4 <unknown>\n",
      "#5 0x55cd8fcb5bed <unknown>\n",
      "#6 0x55cd8fcdb9e6 <unknown>\n",
      "#7 0x55cd8fcb5993 <unknown>\n",
      "#8 0x55cd8fc81d6b <unknown>\n",
      "#9 0x55cd8fc83141 <unknown>\n",
      "#10 0x55cd9015c2ab <unknown>\n",
      "#11 0x55cd901600b9 <unknown>\n",
      "#12 0x55cd90143139 <unknown>\n",
      "#13 0x55cd90160c68 <unknown>\n",
      "#14 0x55cd9012760f <unknown>\n",
      "#15 0x55cd901851f8 <unknown>\n",
      "#16 0x55cd901853d6 <unknown>\n",
      "#17 0x55cd901965e6 <unknown>\n",
      "#18 0x7d080149caa4 <unknown>\n",
      "#19 0x7d0801529c3c <unknown>\n",
      "\n",
      "Error processing https://ca.soccerway.com/matches/2025/05/17/france/ligue-1/lyon/angers/4373044/: Cannot save file into a non-existent directory: 'data'\n"
     ]
    },
    {
     "data": {
      "text/plain": [
       "(   0-0 Count\n",
       " 0          0,\n",
       "    zero_zero_count  late_goals_count  \\\n",
       " 0                0                 3   \n",
       " 1                0                 5   \n",
       " \n",
       "                                      late_goal_teams  goal_count  \n",
       " 0  [Lille 2 vs 1 Reims, Lille 2 vs 1 Reims, Lille...           2  \n",
       " 1  [Lille 2 vs 1 Reims, Lille 2 vs 1 Reims, Lille...           3  )"
      ]
     },
     "execution_count": 73,
     "metadata": {},
     "output_type": "execute_result"
    }
   ],
   "source": [
    "extract_match_data(driver, match_hrefs)"
   ]
  },
  {
   "cell_type": "code",
   "execution_count": 76,
   "id": "925ef475",
   "metadata": {},
   "outputs": [
    {
     "name": "stdout",
     "output_type": "stream",
     "text": [
      "[\"37'\"]\n",
      "[\"37'\", \"60'\"]\n",
      "[\"37'\", \"60'\", \"86'\"]\n",
      "Could not find element at /html/body/div[3]/div/div/div[1]/div/div[3]/div[2]/div/div/div/div[1]/div[2]/div/div[2]/div[1]/div[5]/div[2]/span/span - Message: no such element: Unable to locate element: {\"method\":\"xpath\",\"selector\":\"/html/body/div[3]/div/div/div[1]/div/div[3]/div[2]/div/div/div/div[1]/div[2]/div/div[2]/div[1]/div[5]/div[2]/span/span\"}\n",
      "  (Session info: chrome=138.0.7204.183); For documentation on this error, please visit: https://www.selenium.dev/documentation/webdriver/troubleshooting/errors#nosuchelementexception\n",
      "Stacktrace:\n",
      "#0 0x55cd901972ca <unknown>\n",
      "#1 0x55cd8fc3e550 <unknown>\n",
      "#2 0x55cd8fc900f0 <unknown>\n",
      "#3 0x55cd8fc902e1 <unknown>\n",
      "#4 0x55cd8fcde5e4 <unknown>\n",
      "#5 0x55cd8fcb5bed <unknown>\n",
      "#6 0x55cd8fcdb9e6 <unknown>\n",
      "#7 0x55cd8fcb5993 <unknown>\n",
      "#8 0x55cd8fc81d6b <unknown>\n",
      "#9 0x55cd8fc83141 <unknown>\n",
      "#10 0x55cd9015c2ab <unknown>\n",
      "#11 0x55cd901600b9 <unknown>\n",
      "#12 0x55cd90143139 <unknown>\n",
      "#13 0x55cd90160c68 <unknown>\n",
      "#14 0x55cd9012760f <unknown>\n",
      "#15 0x55cd901851f8 <unknown>\n",
      "#16 0x55cd901853d6 <unknown>\n",
      "#17 0x55cd901965e6 <unknown>\n",
      "#18 0x7d080149caa4 <unknown>\n",
      "#19 0x7d0801529c3c <unknown>\n",
      "\n",
      "Could not find element at /html/body/div[3]/div/div/div[1]/div/div[3]/div[2]/div/div/div/div[1]/div[2]/div/div[2]/div[1]/div[6]/div[2]/span/span - Message: no such element: Unable to locate element: {\"method\":\"xpath\",\"selector\":\"/html/body/div[3]/div/div/div[1]/div/div[3]/div[2]/div/div/div/div[1]/div[2]/div/div[2]/div[1]/div[6]/div[2]/span/span\"}\n",
      "  (Session info: chrome=138.0.7204.183); For documentation on this error, please visit: https://www.selenium.dev/documentation/webdriver/troubleshooting/errors#nosuchelementexception\n",
      "Stacktrace:\n",
      "#0 0x55cd901972ca <unknown>\n",
      "#1 0x55cd8fc3e550 <unknown>\n",
      "#2 0x55cd8fc900f0 <unknown>\n",
      "#3 0x55cd8fc902e1 <unknown>\n",
      "#4 0x55cd8fcde5e4 <unknown>\n",
      "#5 0x55cd8fcb5bed <unknown>\n",
      "#6 0x55cd8fcdb9e6 <unknown>\n",
      "#7 0x55cd8fcb5993 <unknown>\n",
      "#8 0x55cd8fc81d6b <unknown>\n",
      "#9 0x55cd8fc83141 <unknown>\n",
      "#10 0x55cd9015c2ab <unknown>\n",
      "#11 0x55cd901600b9 <unknown>\n",
      "#12 0x55cd90143139 <unknown>\n",
      "#13 0x55cd90160c68 <unknown>\n",
      "#14 0x55cd9012760f <unknown>\n",
      "#15 0x55cd901851f8 <unknown>\n",
      "#16 0x55cd901853d6 <unknown>\n",
      "#17 0x55cd901965e6 <unknown>\n",
      "#18 0x7d080149caa4 <unknown>\n",
      "#19 0x7d0801529c3c <unknown>\n",
      "\n",
      "[\"55'\"]\n",
      "[\"55'\", \"72'\"]\n",
      "Could not find element at /html/body/div[3]/div/div/div[1]/div/div[3]/div[2]/div/div/div/div[1]/div[2]/div/div[2]/div[1]/div[4]/div[2]/span/span - Message: no such element: Unable to locate element: {\"method\":\"xpath\",\"selector\":\"/html/body/div[3]/div/div/div[1]/div/div[3]/div[2]/div/div/div/div[1]/div[2]/div/div[2]/div[1]/div[4]/div[2]/span/span\"}\n",
      "  (Session info: chrome=138.0.7204.183); For documentation on this error, please visit: https://www.selenium.dev/documentation/webdriver/troubleshooting/errors#nosuchelementexception\n",
      "Stacktrace:\n",
      "#0 0x55cd901972ca <unknown>\n",
      "#1 0x55cd8fc3e550 <unknown>\n",
      "#2 0x55cd8fc900f0 <unknown>\n",
      "#3 0x55cd8fc902e1 <unknown>\n",
      "#4 0x55cd8fcde5e4 <unknown>\n",
      "#5 0x55cd8fcb5bed <unknown>\n",
      "#6 0x55cd8fcdb9e6 <unknown>\n",
      "#7 0x55cd8fcb5993 <unknown>\n",
      "#8 0x55cd8fc81d6b <unknown>\n",
      "#9 0x55cd8fc83141 <unknown>\n",
      "#10 0x55cd9015c2ab <unknown>\n",
      "#11 0x55cd901600b9 <unknown>\n",
      "#12 0x55cd90143139 <unknown>\n",
      "#13 0x55cd90160c68 <unknown>\n",
      "#14 0x55cd9012760f <unknown>\n",
      "#15 0x55cd901851f8 <unknown>\n",
      "#16 0x55cd901853d6 <unknown>\n",
      "#17 0x55cd901965e6 <unknown>\n",
      "#18 0x7d080149caa4 <unknown>\n",
      "#19 0x7d0801529c3c <unknown>\n",
      "\n",
      "Could not find element at /html/body/div[3]/div/div/div[1]/div/div[3]/div[2]/div/div/div/div[1]/div[2]/div/div[2]/div[1]/div[5]/div[2]/span/span - Message: no such element: Unable to locate element: {\"method\":\"xpath\",\"selector\":\"/html/body/div[3]/div/div/div[1]/div/div[3]/div[2]/div/div/div/div[1]/div[2]/div/div[2]/div[1]/div[5]/div[2]/span/span\"}\n",
      "  (Session info: chrome=138.0.7204.183); For documentation on this error, please visit: https://www.selenium.dev/documentation/webdriver/troubleshooting/errors#nosuchelementexception\n",
      "Stacktrace:\n",
      "#0 0x55cd901972ca <unknown>\n",
      "#1 0x55cd8fc3e550 <unknown>\n",
      "#2 0x55cd8fc900f0 <unknown>\n",
      "#3 0x55cd8fc902e1 <unknown>\n",
      "#4 0x55cd8fcde5e4 <unknown>\n",
      "#5 0x55cd8fcb5bed <unknown>\n",
      "#6 0x55cd8fcdb9e6 <unknown>\n",
      "#7 0x55cd8fcb5993 <unknown>\n",
      "#8 0x55cd8fc81d6b <unknown>\n",
      "#9 0x55cd8fc83141 <unknown>\n",
      "#10 0x55cd9015c2ab <unknown>\n",
      "#11 0x55cd901600b9 <unknown>\n",
      "#12 0x55cd90143139 <unknown>\n",
      "#13 0x55cd90160c68 <unknown>\n",
      "#14 0x55cd9012760f <unknown>\n",
      "#15 0x55cd901851f8 <unknown>\n",
      "#16 0x55cd901853d6 <unknown>\n",
      "#17 0x55cd901965e6 <unknown>\n",
      "#18 0x7d080149caa4 <unknown>\n",
      "#19 0x7d0801529c3c <unknown>\n",
      "\n",
      "Could not find element at /html/body/div[3]/div/div/div[1]/div/div[3]/div[2]/div/div/div/div[1]/div[2]/div/div[2]/div[1]/div[6]/div[2]/span/span - Message: no such element: Unable to locate element: {\"method\":\"xpath\",\"selector\":\"/html/body/div[3]/div/div/div[1]/div/div[3]/div[2]/div/div/div/div[1]/div[2]/div/div[2]/div[1]/div[6]/div[2]/span/span\"}\n",
      "  (Session info: chrome=138.0.7204.183); For documentation on this error, please visit: https://www.selenium.dev/documentation/webdriver/troubleshooting/errors#nosuchelementexception\n",
      "Stacktrace:\n",
      "#0 0x55cd901972ca <unknown>\n",
      "#1 0x55cd8fc3e550 <unknown>\n",
      "#2 0x55cd8fc900f0 <unknown>\n",
      "#3 0x55cd8fc902e1 <unknown>\n",
      "#4 0x55cd8fcde5e4 <unknown>\n",
      "#5 0x55cd8fcb5bed <unknown>\n",
      "#6 0x55cd8fcdb9e6 <unknown>\n",
      "#7 0x55cd8fcb5993 <unknown>\n",
      "#8 0x55cd8fc81d6b <unknown>\n",
      "#9 0x55cd8fc83141 <unknown>\n",
      "#10 0x55cd9015c2ab <unknown>\n",
      "#11 0x55cd901600b9 <unknown>\n",
      "#12 0x55cd90143139 <unknown>\n",
      "#13 0x55cd90160c68 <unknown>\n",
      "#14 0x55cd9012760f <unknown>\n",
      "#15 0x55cd901851f8 <unknown>\n",
      "#16 0x55cd901853d6 <unknown>\n",
      "#17 0x55cd901965e6 <unknown>\n",
      "#18 0x7d080149caa4 <unknown>\n",
      "#19 0x7d0801529c3c <unknown>\n",
      "\n",
      "   zero_zero_count  late_goals_count  \\\n",
      "0                0                 3   \n",
      "1                0                 5   \n",
      "\n",
      "                                     late_goal_teams  goal_count  \n",
      "0  [Lille 2 vs 1 Reims, Lille 2 vs 1 Reims, Lille...           2  \n",
      "1  [Lille 2 vs 1 Reims, Lille 2 vs 1 Reims, Lille...           3  \n"
     ]
    }
   ],
   "source": [
    "df_zero, df_late = extract_match_data(driver, match_hrefs)\n",
    "\n",
    "print(df_late)"
   ]
  },
  {
   "cell_type": "code",
   "execution_count": 51,
   "id": "f0e6dc59",
   "metadata": {},
   "outputs": [],
   "source": [
    "def close_overlay_if_present():\n",
    "    try:\n",
    "        overlay = WebDriverWait(driver, 2).until(\n",
    "            EC.presence_of_element_located((By.CLASS_NAME, \"fc-dialog-overlay\"))\n",
    "        )\n",
    "        # overlay = driver.find_element(By.XPATH, \"/html/body/div[8]/div[2]/div[2]/div[2]/button\")\n",
    "        driver.execute_script(\"arguments[0].remove();\", overlay)\n",
    "        print(\"Overlay removed.\")\n",
    "    except:\n",
    "        pass  # Overlay not present"
   ]
  },
  {
   "cell_type": "code",
   "execution_count": 54,
   "id": "506cb082",
   "metadata": {},
   "outputs": [],
   "source": [
    "close_overlay_if_present()"
   ]
  },
  {
   "cell_type": "code",
   "execution_count": 58,
   "id": "e51ae5cc",
   "metadata": {},
   "outputs": [
    {
     "name": "stdout",
     "output_type": "stream",
     "text": [
      "All overlays removed.\n"
     ]
    }
   ],
   "source": [
    "def remove_all_overlays():\n",
    "    driver.execute_script(\"\"\"\n",
    "        document.querySelectorAll('.fc-dialog-overlay, .fc-dialog-container').forEach(el => el.remove());\n",
    "    \"\"\")\n",
    "    print(\"All overlays removed.\")\n",
    "    \n",
    "remove_all_overlays()"
   ]
  },
  {
   "cell_type": "code",
   "execution_count": 60,
   "id": "5ce70657",
   "metadata": {},
   "outputs": [
    {
     "name": "stdout",
     "output_type": "stream",
     "text": [
      "Consent popup removed.\n"
     ]
    }
   ],
   "source": [
    "def handle_consent_popup():\n",
    "    try:\n",
    "        consent_popup = WebDriverWait(driver, 2).until(\n",
    "            EC.presence_of_element_located((By.CLASS_NAME, \"fc-consent-root\"))\n",
    "        )\n",
    "        driver.execute_script(\"arguments[0].remove();\", consent_popup)\n",
    "        print(\"Consent popup removed.\")\n",
    "    except:\n",
    "        print(\"No consent popup found.\")\n",
    "\n",
    "handle_consent_popup()"
   ]
  },
  {
   "cell_type": "code",
   "execution_count": 66,
   "id": "47d02d92",
   "metadata": {},
   "outputs": [],
   "source": [
    "def remove_all_overlays():\n",
    "    blocking_classes = [\n",
    "        \"fc-dialog-overlay\",         # Consent\n",
    "        \"fc-consent-root\",           # Cookie pop\n",
    "        # \"sc-94e50ec4-0\",             # Custom site overlay\n",
    "        # \"sc-e15f478f-1\",             # Another wrapper layer\n",
    "    ]\n",
    "    for cls in blocking_classes:\n",
    "        try:\n",
    "            overlays = driver.find_elements(By.CLASS_NAME, cls)\n",
    "            for overlay in overlays:\n",
    "                driver.execute_script(\"arguments[0].remove();\", overlay)\n",
    "                print(f\"✅ Removed overlay: {cls}\")\n",
    "        except Exception as e:\n",
    "            print(f\"⚠️ Could not remove overlay {cls}: {e}\")\n"
   ]
  },
  {
   "cell_type": "code",
   "execution_count": 69,
   "id": "22b142de",
   "metadata": {},
   "outputs": [
    {
     "name": "stdout",
     "output_type": "stream",
     "text": [
      "No consent popup found.\n",
      "No more previous matches or error occurred: Message: \n",
      "Stacktrace:\n",
      "#0 0x55cd901972ca <unknown>\n",
      "#1 0x55cd8fc3e550 <unknown>\n",
      "#2 0x55cd8fc900f0 <unknown>\n",
      "#3 0x55cd8fc902e1 <unknown>\n",
      "#4 0x55cd8fcde5e4 <unknown>\n",
      "#5 0x55cd8fcb5bed <unknown>\n",
      "#6 0x55cd8fcdb9e6 <unknown>\n",
      "#7 0x55cd8fcb5993 <unknown>\n",
      "#8 0x55cd8fc81d6b <unknown>\n",
      "#9 0x55cd8fc83141 <unknown>\n",
      "#10 0x55cd9015c2ab <unknown>\n",
      "#11 0x55cd901600b9 <unknown>\n",
      "#12 0x55cd90143139 <unknown>\n",
      "#13 0x55cd90160c68 <unknown>\n",
      "#14 0x55cd9012760f <unknown>\n",
      "#15 0x55cd901851f8 <unknown>\n",
      "#16 0x55cd901853d6 <unknown>\n",
      "#17 0x55cd901965e6 <unknown>\n",
      "#18 0x7d080149caa4 <unknown>\n",
      "#19 0x7d0801529c3c <unknown>\n",
      "\n"
     ]
    }
   ],
   "source": [
    "def click_previous_button():\n",
    "    \n",
    "    handle_consent_popup()  # Ensure consent popup is handled\n",
    "    remove_all_overlays()  # Ensure button isn't blocked\n",
    "\n",
    "    try:\n",
    "        prev_btn = WebDriverWait(driver, 5).until(\n",
    "            EC.element_to_be_clickable((By.XPATH, \"/html/body/div[3]/div/div/div[1]/div/div[3]/div[2]/div/div/div/div[1]/div/div[2]/div[1]/div/div/div/button\"))\n",
    "        )\n",
    "        # prev_btn = driver.find_element(By.XPATH, \"/html/body/div[3]/div/div/div[1]/div/div[3]/div[2]/div/div/div/div[1]/div/div[2]/div[1]/div/div/div/button\")\n",
    "        driver.execute_script(\"arguments[0].scrollIntoView(true);\", prev_btn)\n",
    "        time.sleep(0.5)  # Ensure visibility\n",
    "        prev_btn.click()\n",
    "        time.sleep(2)  # Wait for data to load\n",
    "        return True\n",
    "    except Exception as e:\n",
    "        print(\"No more previous matches or error occurred:\", e)\n",
    "        return False\n",
    "\n",
    "# Usage\n",
    "while True:\n",
    "    success = click_previous_button()\n",
    "    if not success:\n",
    "        break\n",
    "    print(extract_match_data(driver, match_hrefs))\n"
   ]
  },
  {
   "cell_type": "code",
   "execution_count": 56,
   "id": "27408923",
   "metadata": {},
   "outputs": [
    {
     "name": "stdout",
     "output_type": "stream",
     "text": [
      "No more previous matches or error occurred: Message: element click intercepted: Element <button class=\"sc-41ba8c7a-0 dGqIGb undefined\">...</button> is not clickable at point (518, 14). Other element would receive the click: <div class=\"fc-consent-root\">...</div>\n",
      "  (Session info: chrome=138.0.7204.183); For documentation on this error, please visit: https://www.selenium.dev/documentation/webdriver/troubleshooting/errors#elementclickinterceptedexception\n",
      "Stacktrace:\n",
      "#0 0x55cd901972ca <unknown>\n",
      "#1 0x55cd8fc3e550 <unknown>\n",
      "#2 0x55cd8fc96f5c <unknown>\n",
      "#3 0x55cd8fc94dc2 <unknown>\n",
      "#4 0x55cd8fc92462 <unknown>\n",
      "#5 0x55cd8fc91b80 <unknown>\n",
      "#6 0x55cd8fc842ea <unknown>\n",
      "#7 0x55cd8fcb5bc2 <unknown>\n",
      "#8 0x55cd8fc83c6a <unknown>\n",
      "#9 0x55cd8fcb5d8e <unknown>\n",
      "#10 0x55cd8fcdb9e6 <unknown>\n",
      "#11 0x55cd8fcb5993 <unknown>\n",
      "#12 0x55cd8fc81d6b <unknown>\n",
      "#13 0x55cd8fc83141 <unknown>\n",
      "#14 0x55cd9015c2ab <unknown>\n",
      "#15 0x55cd901600b9 <unknown>\n",
      "#16 0x55cd90143139 <unknown>\n",
      "#17 0x55cd90160c68 <unknown>\n",
      "#18 0x55cd9012760f <unknown>\n",
      "#19 0x55cd901851f8 <unknown>\n",
      "#20 0x55cd901853d6 <unknown>\n",
      "#21 0x55cd901965e6 <unknown>\n",
      "#22 0x7d080149caa4 <unknown>\n",
      "#23 0x7d0801529c3c <unknown>\n",
      "\n"
     ]
    }
   ],
   "source": [
    "# extract_match_data(driver, match_hrefs)\n",
    "\n",
    "# Repeat via Previous button\n",
    "while True:\n",
    "    try:\n",
    "        prev_btn = driver.find_element(By.XPATH, \"/html/body/div[3]/div/div/div[1]/div/div[3]/div[2]/div/div/div/div[1]/div/div[2]/div[1]/div/div/div/button\")\n",
    "        driver.execute_script(\"arguments[0].scrollIntoView(true);\", prev_btn)\n",
    "        time.sleep(0.5)  # Ensure visibility\n",
    "        prev_btn.click()\n",
    "        time.sleep(2)  # allow page to load/update\n",
    "\n",
    "        extracted_data = extract_match_data(driver, match_hrefs)\n",
    "        print(extracted_data)\n",
    "\n",
    "    except Exception as e:\n",
    "        print(\"No more previous matches or error occurred:\", e)\n",
    "        break"
   ]
  },
  {
   "cell_type": "code",
   "execution_count": 42,
   "id": "5f80c08b",
   "metadata": {},
   "outputs": [
    {
     "name": "stdout",
     "output_type": "stream",
     "text": [
      "Load previous\n"
     ]
    }
   ],
   "source": [
    "driver.get(url)\n",
    "prev_btn = driver.find_element(By.XPATH, \"/html/body/div[3]/div/div/div[1]/div/div[3]/div[2]/div/div/div/div[1]/div/div[2]/div[1]/div/div/div/button\")\n",
    "print(prev_btn.text)"
   ]
  },
  {
   "cell_type": "code",
   "execution_count": 72,
   "id": "8b1981fa",
   "metadata": {},
   "outputs": [
    {
     "data": {
      "text/plain": [
       "[1, 2, 3, 4, 5, 6]"
      ]
     },
     "execution_count": 72,
     "metadata": {},
     "output_type": "execute_result"
    }
   ],
   "source": [
    "[1,2,3] + [4,5,6]"
   ]
  },
  {
   "cell_type": "code",
   "execution_count": 47,
   "id": "bd9ff092",
   "metadata": {},
   "outputs": [
    {
     "name": "stderr",
     "output_type": "stream",
     "text": [
      "DEBUG:selenium.webdriver.remote.remote_connection:GET http://localhost:40069/session/9d086d71c326b352c92572dda3d12b61/element/f.01E220F94D55318FAFB30F863D80B09F.d.F2E77589189FA1545767DB1810D30491.e.10032/text {}\n",
      "DEBUG:urllib3.connectionpool:http://localhost:40069 \"GET /session/9d086d71c326b352c92572dda3d12b61/element/f.01E220F94D55318FAFB30F863D80B09F.d.F2E77589189FA1545767DB1810D30491.e.10032/text HTTP/1.1\" 200 0\n",
      "DEBUG:selenium.webdriver.remote.remote_connection:Remote response: status=200 | data={\"value\":\"3\"} | headers=HTTPHeaderDict({'Content-Length': '13', 'Content-Type': 'application/json; charset=utf-8', 'cache-control': 'no-cache'})\n",
      "DEBUG:selenium.webdriver.remote.remote_connection:Finished Request\n",
      "DEBUG:selenium.webdriver.remote.remote_connection:GET http://localhost:40069/session/9d086d71c326b352c92572dda3d12b61/element/f.01E220F94D55318FAFB30F863D80B09F.d.F2E77589189FA1545767DB1810D30491.e.10033/text {}\n",
      "DEBUG:urllib3.connectionpool:http://localhost:40069 \"GET /session/9d086d71c326b352c92572dda3d12b61/element/f.01E220F94D55318FAFB30F863D80B09F.d.F2E77589189FA1545767DB1810D30491.e.10033/text HTTP/1.1\" 200 0\n",
      "DEBUG:selenium.webdriver.remote.remote_connection:Remote response: status=200 | data={\"value\":\"0\"} | headers=HTTPHeaderDict({'Content-Length': '13', 'Content-Type': 'application/json; charset=utf-8', 'cache-control': 'no-cache'})\n",
      "DEBUG:selenium.webdriver.remote.remote_connection:Finished Request\n"
     ]
    },
    {
     "name": "stdout",
     "output_type": "stream",
     "text": [
      "3\n"
     ]
    }
   ],
   "source": [
    "print(int(home_score.text.strip()) + int(away_score.text.strip()))"
   ]
  },
  {
   "cell_type": "code",
   "execution_count": null,
   "id": "29d25f61",
   "metadata": {},
   "outputs": [],
   "source": [
    "# body > div.sc-99237a02-0.emYNNA:nth-child(5) > div.sc-81220147-0.jXeDBc > div.sc-81220147-1.eIIZxi.sc-19cad2e4-0.kkiDdB > div.sc-81220147-2.fgqGfg.simple-grid-item:nth-child(1) > div.sc-94e50ec4-0.dwozFa > div.sc-9ab61def-0.fHlmFM.sc-b4561063-12.hMGjRc:nth-child(1) > div.sc-b4561063-2.dgmodi > div.sc-9ab61def-0.cvqIJV.sc-b4561063-0.bItxxz:nth-child(3) > div.sc-b4561063-1.fzYiaa\n",
    "\n",
    "# body > div.sc-99237a02-0.emYNNA:nth-child(5) > div.sc-81220147-0.jXeDBc > div.sc-81220147-1.eIIZxi.sc-19cad2e4-0.kkiDdB > div.sc-81220147-2.fgqGfg.simple-grid-item:nth-child(1) > div.sc-94e50ec4-0.dwozFa > div.sc-9ab61def-0.fHlmFM.sc-b4561063-12.hMGjRc:nth-child(1) > div.sc-b4561063-2.dgmodi > div.sc-9ab61def-0.cvqIJV.sc-b4561063-0.bItxxz:nth-child(3) > div.sc-b4561063-1.fzYiaa > div.sc-b4561063-8.lndvMZ:nth-child(2) > div.sc-b4561063-9.ckSzrE:nth-child(2) > div.sc-94e50ec4-0.ksqFna:nth-child(1) > div.sc-4e4c9eab-1.fPbPfi.label.sc-b4561063-6.hJImxc\n",
    "\n",
    "# body > div.sc-99237a02-0.emYNNA:nth-child(5) > div.sc-81220147-0.jXeDBc > div.sc-81220147-1.eIIZxi.sc-19cad2e4-0.kkiDdB > div.sc-81220147-2.fgqGfg.simple-grid-item:nth-child(1) > div.sc-94e50ec4-0.dwozFa > div.sc-9ab61def-0.fHlmFM.sc-b4561063-12.hMGjRc:nth-child(1) > div.sc-b4561063-2.dgmodi > div.sc-9ab61def-0.cvqIJV.sc-b4561063-0.bItxxz:nth-child(3) > div.sc-b4561063-1.fzYiaa > div.sc-b4561063-8.lndvMZ:nth-child(2) > div.sc-b4561063-9.ckSzrE:nth-child(2) > div.sc-94e50ec4-0.ksqFna:nth-child(3) > div.sc-4e4c9eab-1.fPbPfi.label.sc-b4561063-6.hJImxc\n",
    "\n",
    "# team   /html/body/div[3]/div/div/div[1]/div/div[1]/div/div[3]/div/a[1]/div\n",
    "# team   /html/body/div[3]/div/div/div[1]/div/div[1]/div/div[3]/div/a[2]/div\n",
    "#        /html/body/div[3]/div/div/div[1]/div/div[1]/div/div[3]/div/a[1]/div\n",
    "\n",
    "# team_name   /html/body/div[3]/div/div/div[1]/div/div[1]/div/div[3]/div/a[1]/div/div/div/h1\n",
    "# team_name   /html/body/div[3]/div/div/div[1]/div/div[1]/div/div[3]/div/a[2]/div/div/div/h1\n",
    "\n",
    "# team_badge  /html/body/div[3]/div/div/div[1]/div/div[1]/div/div[3]/div/a[1]/div/span/img\n",
    "# team_badge  /html/body/div[3]/div/div/div[1]/div/div[1]/div/div[3]/div/a[2]/div/span/img\n",
    "\n",
    "\n",
    "# goals  /html/body/div[3]/div/div/div[1]/div/div[1]/div/div[3]/div/div/div/div[1]/div\n",
    "# goals  /html/body/div[3]/div/div/div[1]/div/div[1]/div/div[3]/div/div/div/div[3]/div\n",
    "\n",
    "\n",
    "#        /html/body/div[3]/div/div/div[1]/div/div[1]/div/div[5]/div[1]\n",
    "#        /html/body/div[3]/div/div/div[1]/div/div[1]/div/div[5]/div[2]\n",
    "\n",
    "\n",
    "# /html/body/div[3]/div/div/div[1]/div/div[1]/div/div[5]/div[1]/div[1]/span\n",
    "# /html/body/div[3]/div/div/div[1]/div/div[1]/div/div[5]/div[1]/div[2]/span\n",
    "# /html/body/div[3]/div/div/div[1]/div/div[1]/div/div[5]/div[2]/div/span\n",
    "\n",
    "\n",
    "# /html/body/div[3]/div/div/div[1]/div/div[1]/div/div[5]/div[1]/div[1]\n",
    "# /html/body/div[3]/div/div/div[1]/div/div[1]/div/div[5]/div[1]\n",
    "\n",
    "# events_div_xpath = \"/html/body/div[3]/div/div/div[1]/div/div[3]/div[2]/div/div/div/div[1]/div[2]/div/div[2]/div[1]\""
   ]
  }
 ],
 "metadata": {
  "kernelspec": {
   "display_name": "venv",
   "language": "python",
   "name": "python3"
  },
  "language_info": {
   "codemirror_mode": {
    "name": "ipython",
    "version": 3
   },
   "file_extension": ".py",
   "mimetype": "text/x-python",
   "name": "python",
   "nbconvert_exporter": "python",
   "pygments_lexer": "ipython3",
   "version": "3.12.3"
  }
 },
 "nbformat": 4,
 "nbformat_minor": 5
}
